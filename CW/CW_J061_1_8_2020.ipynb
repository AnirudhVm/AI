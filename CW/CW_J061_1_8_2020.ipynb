{
  "nbformat": 4,
  "nbformat_minor": 0,
  "metadata": {
    "colab": {
      "name": "CW_J061_1_8_2020.ipynb",
      "provenance": [],
      "collapsed_sections": [],
      "authorship_tag": "ABX9TyPXV1/bY4/qmnIzjh3rSWSm",
      "include_colab_link": true
    },
    "kernelspec": {
      "name": "python3",
      "display_name": "Python 3"
    }
  },
  "cells": [
    {
      "cell_type": "markdown",
      "metadata": {
        "id": "view-in-github",
        "colab_type": "text"
      },
      "source": [
        "<a href=\"https://colab.research.google.com/github/AnirudhVm/AI/blob/master/CW/CW_J061_1_8_2020.ipynb\" target=\"_parent\"><img src=\"https://colab.research.google.com/assets/colab-badge.svg\" alt=\"Open In Colab\"/></a>"
      ]
    },
    {
      "cell_type": "code",
      "metadata": {
        "id": "JfrgJEQloz4Q",
        "colab_type": "code",
        "colab": {}
      },
      "source": [
        "import pandas as pd\n",
        "import numpy as np"
      ],
      "execution_count": 1,
      "outputs": []
    },
    {
      "cell_type": "code",
      "metadata": {
        "id": "pT0SXIIiqmhx",
        "colab_type": "code",
        "colab": {
          "base_uri": "https://localhost:8080/",
          "height": 34
        },
        "outputId": "0c7dd51c-b126-4248-a35a-23a077186c39"
      },
      "source": [
        "sum(range(1,5))"
      ],
      "execution_count": 2,
      "outputs": [
        {
          "output_type": "execute_result",
          "data": {
            "text/plain": [
              "10"
            ]
          },
          "metadata": {
            "tags": []
          },
          "execution_count": 2
        }
      ]
    },
    {
      "cell_type": "code",
      "metadata": {
        "id": "K1ZD5ehRqoSW",
        "colab_type": "code",
        "colab": {}
      },
      "source": [
        "def factorial(n):\n",
        "  if n == 1:\n",
        "    return n\n",
        "  elif n < 1:\n",
        "    return (\"NA\")\n",
        "  else:\n",
        "    return n*factorial(n-1)"
      ],
      "execution_count": 3,
      "outputs": []
    },
    {
      "cell_type": "code",
      "metadata": {
        "id": "h0CkHAHlqp82",
        "colab_type": "code",
        "colab": {
          "base_uri": "https://localhost:8080/",
          "height": 34
        },
        "outputId": "9194e719-ff94-4c2d-a8fd-ac1499998eee"
      },
      "source": [
        "factorial(10)"
      ],
      "execution_count": 11,
      "outputs": [
        {
          "output_type": "execute_result",
          "data": {
            "text/plain": [
              "3628800"
            ]
          },
          "metadata": {
            "tags": []
          },
          "execution_count": 11
        }
      ]
    },
    {
      "cell_type": "code",
      "metadata": {
        "id": "wyb9WMOOqr7u",
        "colab_type": "code",
        "colab": {}
      },
      "source": [
        "def factorial_simp(n):\n",
        "  factor = 1\n",
        "  for i in range(1, n+1):\n",
        "    factor*=i\n",
        "  return factor"
      ],
      "execution_count": 5,
      "outputs": []
    },
    {
      "cell_type": "code",
      "metadata": {
        "id": "gCVW4ofNqt2N",
        "colab_type": "code",
        "colab": {
          "base_uri": "https://localhost:8080/",
          "height": 34
        },
        "outputId": "825ee746-91d1-4c08-be8e-2e1c616c8a11"
      },
      "source": [
        "factorial_simp(10)"
      ],
      "execution_count": 12,
      "outputs": [
        {
          "output_type": "execute_result",
          "data": {
            "text/plain": [
              "3628800"
            ]
          },
          "metadata": {
            "tags": []
          },
          "execution_count": 12
        }
      ]
    },
    {
      "cell_type": "code",
      "metadata": {
        "id": "CJTLKc1MqwKV",
        "colab_type": "code",
        "colab": {}
      },
      "source": [
        "def fibonnaci(n):\n",
        "  if n<=1:\n",
        "     return n\n",
        "  else:\n",
        "     return (fibonnaci(n-1)+fibonnaci(n-2))"
      ],
      "execution_count": 7,
      "outputs": []
    },
    {
      "cell_type": "code",
      "metadata": {
        "id": "ptDO8zC9qyu9",
        "colab_type": "code",
        "colab": {
          "base_uri": "https://localhost:8080/",
          "height": 34
        },
        "outputId": "c0084988-a705-4a6d-c337-cda70e86d5f1"
      },
      "source": [
        "fibonnaci(7)"
      ],
      "execution_count": 13,
      "outputs": [
        {
          "output_type": "execute_result",
          "data": {
            "text/plain": [
              "13"
            ]
          },
          "metadata": {
            "tags": []
          },
          "execution_count": 13
        }
      ]
    },
    {
      "cell_type": "code",
      "metadata": {
        "id": "3nOa1Kkeq1nn",
        "colab_type": "code",
        "colab": {}
      },
      "source": [
        "def fibonnaci_simp(n):\n",
        "  n1 = 0\n",
        "  n2 = 1\n",
        "  count = 0\n",
        "  if n<=0:\n",
        "    print('Invalid Input')\n",
        "  elif n==1:\n",
        "    print(n1,'\\n')\n",
        "  else:\n",
        "    while count<n:\n",
        "      n_th = n1 + n2\n",
        "      n1 = n2\n",
        "      n2 = n_th\n",
        "      count+=1\n",
        "    print(n1)"
      ],
      "execution_count": 9,
      "outputs": []
    },
    {
      "cell_type": "code",
      "metadata": {
        "id": "jEAIT0fkrB2K",
        "colab_type": "code",
        "colab": {
          "base_uri": "https://localhost:8080/",
          "height": 34
        },
        "outputId": "7340e379-5ae9-45f5-d6b9-63da2933fd13"
      },
      "source": [
        "fibonnaci_simp(7)"
      ],
      "execution_count": 14,
      "outputs": [
        {
          "output_type": "stream",
          "text": [
            "13\n"
          ],
          "name": "stdout"
        }
      ]
    },
    {
      "cell_type": "code",
      "metadata": {
        "id": "H89ZljaGrD_8",
        "colab_type": "code",
        "colab": {}
      },
      "source": [
        ""
      ],
      "execution_count": null,
      "outputs": []
    }
  ]
}