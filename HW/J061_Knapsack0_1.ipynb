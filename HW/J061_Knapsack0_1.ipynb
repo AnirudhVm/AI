{
  "nbformat": 4,
  "nbformat_minor": 0,
  "metadata": {
    "colab": {
      "name": "J061_Knapsack0-1.ipynb",
      "provenance": [],
      "collapsed_sections": [],
      "authorship_tag": "ABX9TyNDYhrb4QkyFmWV1SGuqUEc",
      "include_colab_link": true
    },
    "kernelspec": {
      "name": "python3",
      "display_name": "Python 3"
    }
  },
  "cells": [
    {
      "cell_type": "markdown",
      "metadata": {
        "id": "view-in-github",
        "colab_type": "text"
      },
      "source": [
        "<a href=\"https://colab.research.google.com/github/AnirudhVm/AI/blob/master/HW/J061_Knapsack0_1.ipynb\" target=\"_parent\"><img src=\"https://colab.research.google.com/assets/colab-badge.svg\" alt=\"Open In Colab\"/></a>"
      ]
    },
    {
      "cell_type": "code",
      "metadata": {
        "id": "RaI9fW2lEGeM",
        "colab_type": "code",
        "colab": {
          "base_uri": "https://localhost:8080/",
          "height": 105
        },
        "outputId": "3d704592-d5c3-4d11-a6cb-9bbf40d29b0b"
      },
      "source": [
        "def knapsack(value, weight, capacity):\n",
        "    \"\"\"Return the maximum value of items that doesn't exceed capacity.\n",
        " \n",
        "    value[i] is the value of item i and weight[i] is the weight of item i\n",
        "    for 1 <= i <= n where n is the number of items.\n",
        " \n",
        "    capacity is the maximum weight.\n",
        "    \"\"\"\n",
        "    n = len(value) - 1\n",
        " \n",
        "    # m[i][w] will store the maximum value that can be attained with a maximum\n",
        "    # capacity of w and using only the first i items\n",
        "    m = [[-1]*(capacity + 1) for _ in range(n + 1)]\n",
        " \n",
        "    return knapsack_helper(value, weight, m, n, capacity)\n",
        " \n",
        " \n",
        "def knapsack_helper(value, weight, m, i, w):\n",
        "    \"\"\"Return maximum value of first i items attainable with weight <= w.\n",
        " \n",
        "    m[i][w] will store the maximum value that can be attained with a maximum\n",
        "    capacity of w and using only the first i items\n",
        "    This function fills m as smaller subproblems needed to compute m[i][w] are\n",
        "    solved.\n",
        " \n",
        "    value[i] is the value of item i and weight[i] is the weight of item i\n",
        "    for 1 <= i <= n where n is the number of items.\n",
        "    \"\"\"\n",
        "    if m[i][w] >= 0:\n",
        "        return m[i][w]\n",
        " \n",
        "    if i == 0:\n",
        "        q = 0\n",
        "    elif weight[i] <= w:\n",
        "        q = max(knapsack_helper(value, weight,\n",
        "                                m, i - 1 , w - weight[i])\n",
        "                + value[i],\n",
        "                knapsack_helper(value, weight,\n",
        "                                m, i - 1 , w))\n",
        "    else:\n",
        "        q = knapsack_helper(value, weight,\n",
        "                            m, i - 1 , w)\n",
        "    m[i][w] = q\n",
        "    return q\n",
        " \n",
        " \n",
        "n = int(input('Enter number of items: '))\n",
        "if n ==0:\n",
        "  print(\"Invalid entry\")\n",
        "else:\n",
        "\n",
        "  value = input('Enter the values of the {} item(s) in order: '\n",
        "              .format(n)).split()\n",
        "  value = [int(v) for v in value]\n",
        "  value.insert(0, None) # so that the value of the ith item is at value[i]\n",
        "  weight = input('Enter the positive weights of the {} item(s) in order: '\n",
        "               .format(n)).split()\n",
        "  weight = [int(w) for w in weight]\n",
        "  weight.insert(0, None) # so that the weight of the ith item is at weight[i]\n",
        "  capacity = int(input('Enter maximum weight: '))\n",
        " \n",
        "  ans = knapsack(value, weight, capacity)\n",
        "  print('The maximum value of items that can be carried:', ans)"
      ],
      "execution_count": null,
      "outputs": [
        {
          "output_type": "stream",
          "text": [
            "Enter number of items: 5\n",
            "Enter the values of the 5 item(s) in order: 10 59 73 47 90\n",
            "Enter the positive weights of the 5 item(s) in order: 10 20 30 40 50\n",
            "Enter maximum weight: 690\n",
            "The maximum value of items that can be carried: 279\n"
          ],
          "name": "stdout"
        }
      ]
    },
    {
      "cell_type": "code",
      "metadata": {
        "id": "pJ2Xn-ZpFOmL",
        "colab_type": "code",
        "colab": {}
      },
      "source": [
        "\n"
      ],
      "execution_count": null,
      "outputs": []
    }
  ]
}