{
  "nbformat": 4,
  "nbformat_minor": 0,
  "metadata": {
    "colab": {
      "name": "HW_J061_1_8_2020.ipynb",
      "provenance": [],
      "collapsed_sections": [],
      "authorship_tag": "ABX9TyOSQilyT1iiygLdPTYG9cEy",
      "include_colab_link": true
    },
    "kernelspec": {
      "name": "python3",
      "display_name": "Python 3"
    }
  },
  "cells": [
    {
      "cell_type": "markdown",
      "metadata": {
        "id": "view-in-github",
        "colab_type": "text"
      },
      "source": [
        "<a href=\"https://colab.research.google.com/github/AnirudhVm/AI/blob/master/HW/HW_J061_1_8_2020.ipynb\" target=\"_parent\"><img src=\"https://colab.research.google.com/assets/colab-badge.svg\" alt=\"Open In Colab\"/></a>"
      ]
    },
    {
      "cell_type": "markdown",
      "metadata": {
        "id": "WTUwe9qWsQfo",
        "colab_type": "text"
      },
      "source": [
        "# **POSTAL VALIDATION**"
      ]
    },
    {
      "cell_type": "code",
      "metadata": {
        "id": "y1vMBFMrNaiK",
        "colab_type": "code",
        "colab": {
          "base_uri": "https://localhost:8080/",
          "height": 34
        },
        "outputId": "0feaef35-0150-4b12-804e-26cf49b9a405"
      },
      "source": [
        "regex_integer_in_range = r\"_________\"\t# Do not delete 'r'.\n",
        "regex_alternating_repetitive_digit_pair = r\"_________\"\t# Do not delete 'r'.\n",
        "import sys\n",
        "stdin=sys.stdin\n",
        "\n",
        "import re\n",
        "line=stdin.readline().strip()\n",
        "print(re.match(\"^[1-9][0-9]{5}$\",line) !=None and [ord(line[i])-ord(line[i+2]) for i in range(4)].count(0)<=1)"
      ],
      "execution_count": null,
      "outputs": [
        {
          "output_type": "stream",
          "text": [
            "False\n"
          ],
          "name": "stdout"
        }
      ]
    },
    {
      "cell_type": "markdown",
      "metadata": {
        "id": "1jrSvLlhsaaH",
        "colab_type": "text"
      },
      "source": [
        "## **COIN CHANGE**"
      ]
    },
    {
      "cell_type": "code",
      "metadata": {
        "id": "-dOwcDFlNhpo",
        "colab_type": "code",
        "colab": {}
      },
      "source": [
        "#!/bin/python3\n",
        "\n",
        "import math\n",
        "import os\n",
        "import random\n",
        "import re\n",
        "import sys\n",
        "\n",
        "#\n",
        "# Complete the 'getWays' function below.\n",
        "#\n",
        "# The function is expected to return a LONG_INTEGER.\n",
        "# The function accepts following parameters:\n",
        "#  1. INTEGER n\n",
        "#  2. LONG_INTEGER_ARRAY c\n",
        "#\n",
        "\n",
        "def getWays(n, c):\n",
        "    ways = [0] * (n + 1); ## initialise ways[0] in the program with 1 as there's only one way to give back change=0\n",
        "    ways[0] = 1; \n",
        "    for i in range(len(c)): \n",
        "  \n",
        "        \n",
        "        for j in range(len(ways)): \n",
        "            if (c[i] <= j): \n",
        "  \n",
        "                \n",
        "                ways[j] += ways[(int)(j - c[i])]; \n",
        "  \n",
        "    \n",
        "    return ways[n]; \n",
        "if __name__ == '__main__':\n",
        "    fptr = open(os.environ['OUTPUT_PATH'], 'w')\n",
        "\n",
        "    first_multiple_input = input().rstrip().split()\n",
        "\n",
        "    n = int(first_multiple_input[0])\n",
        "\n",
        "    m = int(first_multiple_input[1])\n",
        "\n",
        "    c = list(map(int, input().rstrip().split()))\n",
        "\n",
        "    # Print the number of ways of making change for 'n' units using coins having the values given by 'c'\n",
        "\n",
        "    ways = getWays(n, c)\n",
        "\n",
        "    fptr.write(str(ways) + '\\n')\n",
        "\n",
        "    fptr.close()\n"
      ],
      "execution_count": null,
      "outputs": []
    },
    {
      "cell_type": "markdown",
      "metadata": {
        "id": "hP4Fi9nTsiP4",
        "colab_type": "text"
      },
      "source": [
        "# **SHERLOCK AND COST**"
      ]
    },
    {
      "cell_type": "code",
      "metadata": {
        "id": "eLHEIne8NoLp",
        "colab_type": "code",
        "colab": {}
      },
      "source": [
        "#!/bin/python3\n",
        "\n",
        "import math\n",
        "import os\n",
        "import random\n",
        "import re\n",
        "import sys\n",
        "\n",
        "# Complete the cost function below.\n",
        "def cost(B):\n",
        "  N = len(B)\n",
        "  hi,low=0,0\n",
        "  for i in range(1,N): \n",
        "    hightolow=abs(B[i-1] - 1)\n",
        "    lowtohigh=abs(B[i] - 1)\n",
        "    hightohigh=abs(B[i] - B[i-1])\n",
        "    low_next=max(low, hi+hightolow)\n",
        "    hi_next=max(hi+hightohigh, low+lowtohigh)\n",
        "    low=low_next\n",
        "    hi=hi_next\n",
        "  return max (hi,low)\n",
        "B=[3,15,4,12,10]\n",
        "cost(B)\n",
        "\n",
        "if __name__ == '__main__':\n",
        "    fptr = open(os.environ['OUTPUT_PATH'], 'w')\n",
        "\n",
        "    t = int(input())\n",
        "\n",
        "    for t_itr in range(t):\n",
        "        n = int(input())\n",
        "\n",
        "        B = list(map(int, input().rstrip().split()))\n",
        "\n",
        "        result = cost(B)\n",
        "\n",
        "        fptr.write(str(result) + '\\n')\n",
        "\n",
        "    fptr.close()"
      ],
      "execution_count": null,
      "outputs": []
    },
    {
      "cell_type": "code",
      "metadata": {
        "id": "O_brilTYNuu4",
        "colab_type": "code",
        "colab": {}
      },
      "source": [
        ""
      ],
      "execution_count": null,
      "outputs": []
    }
  ]
}