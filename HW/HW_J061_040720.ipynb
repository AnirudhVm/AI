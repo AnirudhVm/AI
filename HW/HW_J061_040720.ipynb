{
  "nbformat": 4,
  "nbformat_minor": 0,
  "metadata": {
    "colab": {
      "name": "HW_.ipynb",
      "provenance": [],
      "authorship_tag": "ABX9TyMCCoA9E813b+kKWFoh8TQE",
      "include_colab_link": true
    },
    "kernelspec": {
      "name": "python3",
      "display_name": "Python 3"
    }
  },
  "cells": [
    {
      "cell_type": "markdown",
      "metadata": {
        "id": "view-in-github",
        "colab_type": "text"
      },
      "source": [
        "<a href=\"https://colab.research.google.com/github/AnirudhVm/AI/blob/master/HW/HW_J061_040720.ipynb\" target=\"_parent\"><img src=\"https://colab.research.google.com/assets/colab-badge.svg\" alt=\"Open In Colab\"/></a>"
      ]
    },
    {
      "cell_type": "code",
      "metadata": {
        "id": "s3vjaB83X3WS",
        "colab_type": "code",
        "colab": {
          "base_uri": "https://localhost:8080/",
          "height": 50
        },
        "outputId": "e74d4205-9b75-4adc-aa6d-0f58516f203f"
      },
      "source": [
        "\n",
        "\n",
        "n = int(input())\n",
        "if n%2 != 0:\n",
        "    print('Weird')\n",
        "elif n%2==0 and n<6 and 1<n:\n",
        "    print('Not Weird')\n",
        "elif n%2==0 and n<21 and 5<n :\n",
        "    print('Weird')\n",
        "else:\n",
        "    print('Not Weird')"
      ],
      "execution_count": 5,
      "outputs": [
        {
          "output_type": "stream",
          "text": [
            "56\n",
            "Not Weird\n"
          ],
          "name": "stdout"
        }
      ]
    },
    {
      "cell_type": "code",
      "metadata": {
        "id": "0XmAllmmbhA0",
        "colab_type": "code",
        "colab": {
          "base_uri": "https://localhost:8080/",
          "height": 101
        },
        "outputId": "c7fe6516-bdfc-417d-bbc8-f17d2e2e44e8"
      },
      "source": [
        "    a = int(input())\n",
        "    b = int(input())\n",
        "    x=a+b\n",
        "    subtract = a-b\n",
        "    prod=a*b\n",
        "    print(x)\n",
        "    print(subtract)\n",
        "    print(prod)"
      ],
      "execution_count": 4,
      "outputs": [
        {
          "output_type": "stream",
          "text": [
            "2\n",
            "3\n",
            "5\n",
            "-1\n",
            "6\n"
          ],
          "name": "stdout"
        }
      ]
    },
    {
      "cell_type": "code",
      "metadata": {
        "id": "vaJQKgwEb0Gv",
        "colab_type": "code",
        "colab": {
          "base_uri": "https://localhost:8080/",
          "height": 84
        },
        "outputId": "89d69163-4262-4a09-d93b-18994fda8e63"
      },
      "source": [
        "a = int(input())\n",
        "b = int(input())\n",
        "\n",
        "print(a//b)\n",
        "print(a/b)"
      ],
      "execution_count": 9,
      "outputs": [
        {
          "output_type": "stream",
          "text": [
            "4\n",
            "3\n",
            "1\n",
            "1.3333333333333333\n"
          ],
          "name": "stdout"
        }
      ]
    },
    {
      "cell_type": "code",
      "metadata": {
        "id": "BfM0vFh6dC_n",
        "colab_type": "code",
        "colab": {}
      },
      "source": [
        "for i in range(input()):\n",
        "    print(i*i)"
      ],
      "execution_count": null,
      "outputs": []
    },
    {
      "cell_type": "code",
      "metadata": {
        "id": "mhRPm9Cgg3TO",
        "colab_type": "code",
        "colab": {}
      },
      "source": [
        "for i in range(int(input())):\n",
        "    print(i+1,end=\"\")"
      ],
      "execution_count": null,
      "outputs": []
    },
    {
      "cell_type": "code",
      "metadata": {
        "id": "swVrbd5cnMwG",
        "colab_type": "code",
        "colab": {}
      },
      "source": [
        "if __name__ == '__main__':\n",
        "    x = int(input())\n",
        "    y = int(input())\n",
        "    z = int(input())\n",
        "    n = int(input())\n",
        "    a=[[i,j,k] for i in range (x+1) for j in range(y+1) for k in range(z+1) if((i+j+k) !=n)]\n",
        "\n",
        "print(a)"
      ],
      "execution_count": null,
      "outputs": []
    }
  ]
}